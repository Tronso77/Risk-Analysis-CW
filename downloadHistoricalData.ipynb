{
 "cells": [
  {
   "cell_type": "markdown",
   "metadata": {},
   "source": [
    "**Download Options Data**"
   ]
  },
  {
   "cell_type": "code",
   "execution_count": 1,
   "metadata": {},
   "outputs": [
    {
     "name": "stdout",
     "output_type": "stream",
     "text": [
      "Expiration: 2025-07-31\n"
     ]
    },
    {
     "data": {
      "text/plain": [
       "0.5753968253968254"
      ]
     },
     "execution_count": 1,
     "metadata": {},
     "output_type": "execute_result"
    }
   ],
   "source": [
    "import numpy as np\n",
    "import pandas as pd\n",
    "import yfinance as yf\n",
    "from datetime import datetime, timedelta\n",
    "\n",
    "import matplotlib.pyplot as plt\n",
    "\n",
    "spy = yf.Ticker('SPY')\n",
    "\n",
    "exp = spy.options[18]\n",
    "days_to_exp = (datetime.strptime(exp, \"%Y-%m-%d\")-datetime.today()).days\n",
    "\n",
    "option_chain = spy.option_chain(exp)\n",
    "\n",
    "calls_df = option_chain.calls[['strike', 'bid', 'ask']].copy()\n",
    "calls_df['mid_price'] = (calls_df['bid'] + calls_df['ask']) / 2\n",
    "calls_df = calls_df[['strike', 'mid_price']]\n",
    "\n",
    "puts_df = option_chain.puts[['strike', 'bid', 'ask']].copy()\n",
    "puts_df['mid_price'] = (puts_df['bid'] + puts_df['ask']) / 2\n",
    "puts_df = puts_df[['strike', 'mid_price']]\n",
    "\n",
    "\n",
    "print(f'Expiration: {exp}')\n",
    "days_to_exp/252\n",
    "\n",
    "# with pd.ExcelWriter(f'spy_options_{exp}.xlsx', engine='xlsxwriter') as writer:\n",
    "#     calls_df.to_excel(writer, sheet_name='Calls', index=False)\n",
    "#     puts_df.to_excel(writer, sheet_name='Puts', index=False)\n"
   ]
  },
  {
   "cell_type": "markdown",
   "metadata": {},
   "source": [
    "**Download Stock Price Data**"
   ]
  },
  {
   "cell_type": "code",
   "execution_count": 1,
   "metadata": {},
   "outputs": [
    {
     "data": {
      "text/html": [
       "<div>\n",
       "<style scoped>\n",
       "    .dataframe tbody tr th:only-of-type {\n",
       "        vertical-align: middle;\n",
       "    }\n",
       "\n",
       "    .dataframe tbody tr th {\n",
       "        vertical-align: top;\n",
       "    }\n",
       "\n",
       "    .dataframe thead th {\n",
       "        text-align: right;\n",
       "    }\n",
       "</style>\n",
       "<table border=\"1\" class=\"dataframe\">\n",
       "  <thead>\n",
       "    <tr style=\"text-align: right;\">\n",
       "      <th>Ticker</th>\n",
       "      <th>Date</th>\n",
       "      <th>AA</th>\n",
       "      <th>INTC</th>\n",
       "      <th>JPM</th>\n",
       "      <th>PG</th>\n",
       "      <th>^GSPC</th>\n",
       "    </tr>\n",
       "  </thead>\n",
       "  <tbody>\n",
       "    <tr>\n",
       "      <th>0</th>\n",
       "      <td>02/22/2022</td>\n",
       "      <td>71.601578</td>\n",
       "      <td>41.764210</td>\n",
       "      <td>139.742737</td>\n",
       "      <td>146.536591</td>\n",
       "      <td>4304.759766</td>\n",
       "    </tr>\n",
       "    <tr>\n",
       "      <th>1</th>\n",
       "      <td>02/23/2022</td>\n",
       "      <td>72.790276</td>\n",
       "      <td>41.726833</td>\n",
       "      <td>136.816681</td>\n",
       "      <td>144.708725</td>\n",
       "      <td>4225.500000</td>\n",
       "    </tr>\n",
       "    <tr>\n",
       "      <th>2</th>\n",
       "      <td>02/24/2022</td>\n",
       "      <td>70.838127</td>\n",
       "      <td>43.661320</td>\n",
       "      <td>133.007294</td>\n",
       "      <td>140.811707</td>\n",
       "      <td>4288.700195</td>\n",
       "    </tr>\n",
       "    <tr>\n",
       "      <th>3</th>\n",
       "      <td>02/25/2022</td>\n",
       "      <td>75.235298</td>\n",
       "      <td>44.586502</td>\n",
       "      <td>136.154160</td>\n",
       "      <td>146.824249</td>\n",
       "      <td>4384.649902</td>\n",
       "    </tr>\n",
       "    <tr>\n",
       "      <th>4</th>\n",
       "      <td>02/28/2022</td>\n",
       "      <td>72.809586</td>\n",
       "      <td>44.577156</td>\n",
       "      <td>130.476868</td>\n",
       "      <td>144.643768</td>\n",
       "      <td>4373.939941</td>\n",
       "    </tr>\n",
       "  </tbody>\n",
       "</table>\n",
       "</div>"
      ],
      "text/plain": [
       "Ticker        Date         AA       INTC         JPM          PG        ^GSPC\n",
       "0       02/22/2022  71.601578  41.764210  139.742737  146.536591  4304.759766\n",
       "1       02/23/2022  72.790276  41.726833  136.816681  144.708725  4225.500000\n",
       "2       02/24/2022  70.838127  43.661320  133.007294  140.811707  4288.700195\n",
       "3       02/25/2022  75.235298  44.586502  136.154160  146.824249  4384.649902\n",
       "4       02/28/2022  72.809586  44.577156  130.476868  144.643768  4373.939941"
      ]
     },
     "execution_count": 1,
     "metadata": {},
     "output_type": "execute_result"
    }
   ],
   "source": [
    "import yfinance as yf\n",
    "import pandas as pd\n",
    "\n",
    "tickers = ['INTC', 'JPM', 'AA', 'PG', '^GSPC']\n",
    "\n",
    "start_date = '2022-02-21'\n",
    "end_date = '2024-02-21'\n",
    "\n",
    "data = yf.download(tickers=tickers, start=start_date, end=end_date, progress=False, auto_adjust=False, interval='1d')['Adj Close']\n",
    "\n",
    "# Reset index so that the date becomes a column\n",
    "data.reset_index(inplace=True)\n",
    "# Format date column as MM/DD/YYYY\n",
    "data['Date'] = data['Date'].dt.strftime('%m/%d/%Y')\n",
    "# Save as CSV file with a comma separator\n",
    "data.to_csv('RA_Q4_Dataset.csv', index=False)\n",
    "data.head()\n"
   ]
  },
  {
   "cell_type": "code",
   "execution_count": null,
   "metadata": {},
   "outputs": [
    {
     "data": {
      "text/plain": [
       "(np.float64(5.5751572440161805), np.float64(5.776562002312479))"
      ]
     },
     "execution_count": 50,
     "metadata": {},
     "output_type": "execute_result"
    }
   ],
   "source": [
    "import yfinance as yf\n",
    "import pandas as pd\n",
    "import numpy as np\n",
    "\n",
    "tickers = ['INTC', 'JPM', 'AA', 'PG', '^GSPC']\n",
    "\n",
    "start_date = '2000-01-01'\n",
    "end_date = '2025-01-01'\n",
    "\n",
    "df_daily = yf.download(tickers='^GSPC', start=start_date, end=end_date, progress=False, auto_adjust=False, interval='1d')['Adj Close']\n",
    "df_monthly = yf.download(tickers='^GSPC', start=start_date, end=end_date, progress=False, auto_adjust=False, interval='1mo')['Adj Close']\n",
    "\n",
    "np.mean(np.log(df_daily /df_daily.shift(1)).dropna())*251*100, np.mean(np.log(df_monthly /df_monthly.shift(1)).dropna())*12*100"
   ]
  }
 ],
 "metadata": {
  "kernelspec": {
   "display_name": "finmaths",
   "language": "python",
   "name": "python3"
  },
  "language_info": {
   "codemirror_mode": {
    "name": "ipython",
    "version": 3
   },
   "file_extension": ".py",
   "mimetype": "text/x-python",
   "name": "python",
   "nbconvert_exporter": "python",
   "pygments_lexer": "ipython3",
   "version": "3.13.1"
  }
 },
 "nbformat": 4,
 "nbformat_minor": 2
}
