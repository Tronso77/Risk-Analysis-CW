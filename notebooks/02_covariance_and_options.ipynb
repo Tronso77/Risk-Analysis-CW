{
 "cells": [
  {
   "cell_type": "markdown",
   "id": "e92b8014",
   "metadata": {},
   "source": [
    "# Covariance Estimation & Option Portfolio VaR\n"
   ]
  },
  {
   "cell_type": "markdown",
   "id": "6b454e56",
   "metadata": {},
   "source": [
    "## Setup"
   ]
  },
  {
   "cell_type": "code",
   "execution_count": 1,
   "id": "aee20a7a",
   "metadata": {},
   "outputs": [],
   "source": [
    "from pathlib import Path\n",
    "import numpy as np\n",
    "import pandas as pd\n",
    "import matplotlib.pyplot as plt\n",
    "import sys\n",
    "sys.path.append(\"../src\")\n",
    "\n",
    "from risk_analysis.data import load_price_history, compute_log_returns\n",
    "from risk_analysis.shrinkage import constant_correlation_shrinkage, single_index_shrinkage\n",
    "from risk_analysis.options import (\n",
    "    OptionContract,\n",
    "    option_portfolio_valuation,\n",
    "    simulate_option_var,\n",
    ")\n",
    "\n",
    "%matplotlib inline"
   ]
  },
  {
   "cell_type": "markdown",
   "id": "246f6d8e",
   "metadata": {},
   "source": [
    "## Load market data"
   ]
  },
  {
   "cell_type": "code",
   "execution_count": 2,
   "id": "a855edc6",
   "metadata": {},
   "outputs": [
    {
     "data": {
      "text/html": [
       "<div>\n",
       "<style scoped>\n",
       "    .dataframe tbody tr th:only-of-type {\n",
       "        vertical-align: middle;\n",
       "    }\n",
       "\n",
       "    .dataframe tbody tr th {\n",
       "        vertical-align: top;\n",
       "    }\n",
       "\n",
       "    .dataframe thead th {\n",
       "        text-align: right;\n",
       "    }\n",
       "</style>\n",
       "<table border=\"1\" class=\"dataframe\">\n",
       "  <thead>\n",
       "    <tr style=\"text-align: right;\">\n",
       "      <th></th>\n",
       "      <th>AA</th>\n",
       "      <th>INTC</th>\n",
       "      <th>JPM</th>\n",
       "      <th>PG</th>\n",
       "    </tr>\n",
       "    <tr>\n",
       "      <th>Date</th>\n",
       "      <th></th>\n",
       "      <th></th>\n",
       "      <th></th>\n",
       "      <th></th>\n",
       "    </tr>\n",
       "  </thead>\n",
       "  <tbody>\n",
       "    <tr>\n",
       "      <th>2022-02-23</th>\n",
       "      <td>0.016465</td>\n",
       "      <td>-0.000895</td>\n",
       "      <td>-0.021161</td>\n",
       "      <td>-0.012552</td>\n",
       "    </tr>\n",
       "    <tr>\n",
       "      <th>2022-02-24</th>\n",
       "      <td>-0.027185</td>\n",
       "      <td>0.045318</td>\n",
       "      <td>-0.028238</td>\n",
       "      <td>-0.027299</td>\n",
       "    </tr>\n",
       "    <tr>\n",
       "      <th>2022-02-25</th>\n",
       "      <td>0.060223</td>\n",
       "      <td>0.020969</td>\n",
       "      <td>0.023384</td>\n",
       "      <td>0.041813</td>\n",
       "    </tr>\n",
       "    <tr>\n",
       "      <th>2022-02-28</th>\n",
       "      <td>-0.032773</td>\n",
       "      <td>-0.000210</td>\n",
       "      <td>-0.042592</td>\n",
       "      <td>-0.014962</td>\n",
       "    </tr>\n",
       "    <tr>\n",
       "      <th>2022-03-01</th>\n",
       "      <td>0.057262</td>\n",
       "      <td>-0.018621</td>\n",
       "      <td>-0.038460</td>\n",
       "      <td>-0.016689</td>\n",
       "    </tr>\n",
       "  </tbody>\n",
       "</table>\n",
       "</div>"
      ],
      "text/plain": [
       "                  AA      INTC       JPM        PG\n",
       "Date                                              \n",
       "2022-02-23  0.016465 -0.000895 -0.021161 -0.012552\n",
       "2022-02-24 -0.027185  0.045318 -0.028238 -0.027299\n",
       "2022-02-25  0.060223  0.020969  0.023384  0.041813\n",
       "2022-02-28 -0.032773 -0.000210 -0.042592 -0.014962\n",
       "2022-03-01  0.057262 -0.018621 -0.038460 -0.016689"
      ]
     },
     "execution_count": 2,
     "metadata": {},
     "output_type": "execute_result"
    }
   ],
   "source": [
    "PROJECT_ROOT = Path.cwd().resolve().parent\n",
    "dataset = pd.read_csv(PROJECT_ROOT / 'q4_dataset.csv')\n",
    "dataset['Date'] = pd.to_datetime(dataset['Date'])\n",
    "dataset.set_index('Date', inplace=True)\n",
    "stock_prices = dataset.iloc[:, :-1]\n",
    "market_prices = dataset.iloc[:, -1]\n",
    "\n",
    "stock_log_returns = np.log(stock_prices).diff().dropna()\n",
    "market_log_returns = np.log(market_prices).diff().dropna()\n",
    "stock_log_returns.head()"
   ]
  },
  {
   "cell_type": "markdown",
   "id": "2a50a31c",
   "metadata": {},
   "source": [
    "## Covariance estimators"
   ]
  },
  {
   "cell_type": "code",
   "execution_count": 3,
   "id": "bd984ed5",
   "metadata": {},
   "outputs": [
    {
     "name": "stdout",
     "output_type": "stream",
     "text": [
      "Ledoit-Wolf shrinkage intensity: 0.41662655146710725\n",
      "Single-index shrinkage intensity: 0.5320733987930313\n"
     ]
    },
    {
     "data": {
      "text/html": [
       "<div>\n",
       "<style scoped>\n",
       "    .dataframe tbody tr th:only-of-type {\n",
       "        vertical-align: middle;\n",
       "    }\n",
       "\n",
       "    .dataframe tbody tr th {\n",
       "        vertical-align: top;\n",
       "    }\n",
       "\n",
       "    .dataframe thead th {\n",
       "        text-align: right;\n",
       "    }\n",
       "</style>\n",
       "<table border=\"1\" class=\"dataframe\">\n",
       "  <thead>\n",
       "    <tr style=\"text-align: right;\">\n",
       "      <th></th>\n",
       "      <th>AA</th>\n",
       "      <th>INTC</th>\n",
       "      <th>JPM</th>\n",
       "      <th>PG</th>\n",
       "    </tr>\n",
       "  </thead>\n",
       "  <tbody>\n",
       "    <tr>\n",
       "      <th>AA</th>\n",
       "      <td>0.001406</td>\n",
       "      <td>0.000295</td>\n",
       "      <td>0.000224</td>\n",
       "      <td>0.000108</td>\n",
       "    </tr>\n",
       "    <tr>\n",
       "      <th>INTC</th>\n",
       "      <td>0.000295</td>\n",
       "      <td>0.000604</td>\n",
       "      <td>0.000133</td>\n",
       "      <td>0.000090</td>\n",
       "    </tr>\n",
       "    <tr>\n",
       "      <th>JPM</th>\n",
       "      <td>0.000224</td>\n",
       "      <td>0.000133</td>\n",
       "      <td>0.000242</td>\n",
       "      <td>0.000062</td>\n",
       "    </tr>\n",
       "    <tr>\n",
       "      <th>PG</th>\n",
       "      <td>0.000108</td>\n",
       "      <td>0.000090</td>\n",
       "      <td>0.000062</td>\n",
       "      <td>0.000140</td>\n",
       "    </tr>\n",
       "  </tbody>\n",
       "</table>\n",
       "</div>"
      ],
      "text/plain": [
       "            AA      INTC       JPM        PG\n",
       "AA    0.001406  0.000295  0.000224  0.000108\n",
       "INTC  0.000295  0.000604  0.000133  0.000090\n",
       "JPM   0.000224  0.000133  0.000242  0.000062\n",
       "PG    0.000108  0.000090  0.000062  0.000140"
      ]
     },
     "execution_count": 3,
     "metadata": {},
     "output_type": "execute_result"
    }
   ],
   "source": [
    "sample_cov = stock_log_returns.cov()\n",
    "ledoit_cov, lw_shrink = constant_correlation_shrinkage(stock_log_returns)\n",
    "\n",
    "# Build single-index prior and shrinkage matrix\n",
    "si_cov, si_shrink = single_index_shrinkage(stock_log_returns, market_log_returns)\n",
    "\n",
    "print('Ledoit-Wolf shrinkage intensity:', lw_shrink)\n",
    "print('Single-index shrinkage intensity:', si_shrink)\n",
    "ledoit_cov"
   ]
  },
  {
   "cell_type": "markdown",
   "id": "0c6dac27",
   "metadata": {},
   "source": [
    "### Condition numbers"
   ]
  },
  {
   "cell_type": "code",
   "execution_count": 4,
   "id": "98721340",
   "metadata": {},
   "outputs": [
    {
     "name": "stdout",
     "output_type": "stream",
     "text": [
      "Sample covariance CN: 14.788552282020495\n",
      "Ledoit-Wolf covariance CN: 14.453164594223942\n",
      "Single-index covariance CN: 14.335306112211144\n"
     ]
    }
   ],
   "source": [
    "def condition_number(matrix):\n",
    "    eigenvalues = np.linalg.eigvalsh(matrix)\n",
    "    return float(eigenvalues.max() / eigenvalues.min())\n",
    "\n",
    "print('Sample covariance CN:', condition_number(sample_cov))\n",
    "print('Ledoit-Wolf covariance CN:', condition_number(ledoit_cov))\n",
    "print('Single-index covariance CN:', condition_number(si_cov))"
   ]
  },
  {
   "cell_type": "markdown",
   "id": "df344205",
   "metadata": {},
   "source": [
    "## Option portfolio"
   ]
  },
  {
   "cell_type": "code",
   "execution_count": 5,
   "id": "34bbf227",
   "metadata": {},
   "outputs": [
    {
     "data": {
      "text/html": [
       "<div>\n",
       "<style scoped>\n",
       "    .dataframe tbody tr th:only-of-type {\n",
       "        vertical-align: middle;\n",
       "    }\n",
       "\n",
       "    .dataframe tbody tr th {\n",
       "        vertical-align: top;\n",
       "    }\n",
       "\n",
       "    .dataframe thead th {\n",
       "        text-align: right;\n",
       "    }\n",
       "</style>\n",
       "<table border=\"1\" class=\"dataframe\">\n",
       "  <thead>\n",
       "    <tr style=\"text-align: right;\">\n",
       "      <th></th>\n",
       "      <th>type</th>\n",
       "      <th>quantity</th>\n",
       "      <th>strike</th>\n",
       "      <th>maturity</th>\n",
       "      <th>option_value</th>\n",
       "      <th>position_value</th>\n",
       "    </tr>\n",
       "    <tr>\n",
       "      <th>ticker</th>\n",
       "      <th></th>\n",
       "      <th></th>\n",
       "      <th></th>\n",
       "      <th></th>\n",
       "      <th></th>\n",
       "      <th></th>\n",
       "    </tr>\n",
       "  </thead>\n",
       "  <tbody>\n",
       "    <tr>\n",
       "      <th>AA</th>\n",
       "      <td>call</td>\n",
       "      <td>6.0</td>\n",
       "      <td>28.0</td>\n",
       "      <td>1.00</td>\n",
       "      <td>5.930440</td>\n",
       "      <td>35.582638</td>\n",
       "    </tr>\n",
       "    <tr>\n",
       "      <th>INTC</th>\n",
       "      <td>call</td>\n",
       "      <td>-3.0</td>\n",
       "      <td>40.0</td>\n",
       "      <td>0.75</td>\n",
       "      <td>8.566701</td>\n",
       "      <td>-25.700104</td>\n",
       "    </tr>\n",
       "    <tr>\n",
       "      <th>JPM</th>\n",
       "      <td>put</td>\n",
       "      <td>6.0</td>\n",
       "      <td>176.0</td>\n",
       "      <td>0.50</td>\n",
       "      <td>10.601381</td>\n",
       "      <td>63.608285</td>\n",
       "    </tr>\n",
       "    <tr>\n",
       "      <th>PG</th>\n",
       "      <td>put</td>\n",
       "      <td>-2.0</td>\n",
       "      <td>170.0</td>\n",
       "      <td>0.75</td>\n",
       "      <td>16.295867</td>\n",
       "      <td>-32.591733</td>\n",
       "    </tr>\n",
       "    <tr>\n",
       "      <th>Portfolio</th>\n",
       "      <td>NaN</td>\n",
       "      <td>NaN</td>\n",
       "      <td>NaN</td>\n",
       "      <td>NaN</td>\n",
       "      <td>NaN</td>\n",
       "      <td>40.899087</td>\n",
       "    </tr>\n",
       "  </tbody>\n",
       "</table>\n",
       "</div>"
      ],
      "text/plain": [
       "           type  quantity  strike  maturity  option_value  position_value\n",
       "ticker                                                                   \n",
       "AA         call       6.0    28.0      1.00      5.930440       35.582638\n",
       "INTC       call      -3.0    40.0      0.75      8.566701      -25.700104\n",
       "JPM         put       6.0   176.0      0.50     10.601381       63.608285\n",
       "PG          put      -2.0   170.0      0.75     16.295867      -32.591733\n",
       "Portfolio   NaN       NaN     NaN       NaN           NaN       40.899087"
      ]
     },
     "execution_count": 5,
     "metadata": {},
     "output_type": "execute_result"
    }
   ],
   "source": [
    "spot_prices = stock_prices.iloc[-1]\n",
    "annual_vol = np.sqrt(sample_cov.values.diagonal() * 252)\n",
    "contracts = [\n",
    "    OptionContract('AA', 'call', 6, round(1.05 * spot_prices['AA']), 1.0),\n",
    "    OptionContract('INTC', 'call', -3, round(0.90 * spot_prices['INTC']), 0.75),\n",
    "    OptionContract('JPM', 'put', 6, round(spot_prices['JPM']), 0.5),\n",
    "    OptionContract('PG', 'put', -2, round(1.10 * spot_prices['PG']), 0.75),\n",
    "]\n",
    "portfolio_values = option_portfolio_valuation(\n",
    "    spot_prices,\n",
    "    pd.Series(annual_vol, index=stock_prices.columns),\n",
    "    contracts,\n",
    ")\n",
    "portfolio_values"
   ]
  },
  {
   "cell_type": "markdown",
   "id": "8fec3b9f",
   "metadata": {},
   "source": [
    "## VaR simulation"
   ]
  },
  {
   "cell_type": "code",
   "execution_count": 6,
   "id": "19f38b5a",
   "metadata": {},
   "outputs": [
    {
     "name": "stdout",
     "output_type": "stream",
     "text": [
      "Bootstrap VaR: 48.66$\n",
      "Bootstrap ES: 55.03$\n",
      "Gaussian VaR: 48.12$\n",
      "Gaussian ES: 54.16$\n"
     ]
    }
   ],
   "source": [
    "simulation = simulate_option_var(\n",
    "    log_returns=stock_log_returns,\n",
    "    spot_prices=spot_prices,\n",
    "    contracts=contracts,\n",
    "    horizon_days=10,\n",
    "    confidence=0.99,\n",
    "    n_bootstrap=5000,\n",
    ")\n",
    "\n",
    "bootstrap_var = simulation['bootstrap']['VaR']\n",
    "bootstrap_es = simulation['bootstrap']['ES']\n",
    "gaussian_var = simulation['gaussian']['VaR']\n",
    "gaussian_es = simulation['gaussian']['ES']\n",
    "\n",
    "print(f'Bootstrap VaR: {bootstrap_var:.2f}$')\n",
    "print(f'Bootstrap ES: {bootstrap_es:.2f}$')\n",
    "print(f'Gaussian VaR: {gaussian_var:.2f}$')\n",
    "print(f'Gaussian ES: {gaussian_es:.2f}$')"
   ]
  },
  {
   "cell_type": "markdown",
   "id": "0b69c0fe",
   "metadata": {},
   "source": [
    "### Portfolio P&L distribution"
   ]
  },
  {
   "cell_type": "code",
   "execution_count": 7,
   "id": "2f24c165",
   "metadata": {},
   "outputs": [
    {
     "data": {
      "image/png": "[encoded data removed]",
      "text/plain": [
       "<Figure size 800x400 with 1 Axes>"
      ]
     },
     "metadata": {},
     "output_type": "display_data"
    }
   ],
   "source": [
    "fig, ax = plt.subplots(figsize=(8, 4))\n",
    "ax.hist(simulation['bootstrap']['portfolio_pnl'], bins=60, alpha=0.6, label='Bootstrap')\n",
    "ax.hist(simulation['gaussian']['portfolio_pnl'], bins=60, alpha=0.6, label='Gaussian')\n",
    "ax.axvline(-bootstrap_var, color='tab:blue', linestyle='--', label='Bootstrap VaR')\n",
    "ax.axvline(-gaussian_var, color='tab:orange', linestyle='--', label='Gaussian VaR')\n",
    "ax.set_xlabel('Portfolio P&L ($)')\n",
    "ax.set_ylabel('Frequency')\n",
    "ax.legend()\n",
    "ax.set_title('Option Portfolio 10-day P&L')\n",
    "plt.tight_layout()"
   ]
  }
 ],
 "metadata": {
  "kernelspec": {
   "display_name": "Python 3",
   "language": "python",
   "name": "python3"
  },
  "language_info": {
   "codemirror_mode": {
    "name": "ipython",
    "version": 3
   },
   "file_extension": ".py",
   "mimetype": "text/x-python",
   "name": "python",
   "nbconvert_exporter": "python",
   "pygments_lexer": "ipython3",
   "version": "3.11.2"
  }
 },
 "nbformat": 4,
 "nbformat_minor": 5
}
